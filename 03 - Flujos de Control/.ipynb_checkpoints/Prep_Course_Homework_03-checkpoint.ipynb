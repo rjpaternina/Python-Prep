{
 "cells": [
  {
   "cell_type": "code",
   "execution_count": 5,
   "metadata": {},
   "outputs": [
    {
     "name": "stdout",
     "output_type": "stream",
     "text": [
      "10\n"
     ]
    }
   ],
   "source": [
    "#1. Crear una variable que contenga un elemento del conjunto de números enteros y luego imprimir por pantalla si es mayor o menor a cero\n",
    "\n",
    "\n",
    "var = 10\n",
    "if var > 0:\n",
    "    print(var)\n",
    "elif var < 0:\n",
    "    print(var)\n",
    "else: \n",
    "    print('El numero es igual a 0')\n",
    "\n",
    "    "
   ]
  },
  {
   "cell_type": "code",
   "execution_count": 1,
   "metadata": {},
   "outputs": [
    {
     "name": "stdout",
     "output_type": "stream",
     "text": [
      "No son variables del mimso tipo\n"
     ]
    }
   ],
   "source": [
    "#2. Crear dos variables y un condicional que informe si son del mismo tipo de dato\n",
    "var2 = 5.5\n",
    "var3 = 7\n",
    "if type(var2) == type(var3):\n",
    "    print('Son variable del mismo tipo')\n",
    "else: \n",
    "    print('No son variables del mimso tipo')\n"
   ]
  },
  {
   "cell_type": "code",
   "execution_count": 29,
   "metadata": {},
   "outputs": [
    {
     "name": "stdout",
     "output_type": "stream",
     "text": [
      "1 es un numero impar\n",
      "2 es un numero par\n",
      "3 es un numero impar\n",
      "4 es un numero par\n",
      "5 es un numero impar\n",
      "6 es un numero par\n",
      "7 es un numero impar\n",
      "8 es un numero par\n",
      "9 es un numero impar\n",
      "10 es un numero par\n",
      "11 es un numero impar\n",
      "12 es un numero par\n",
      "13 es un numero impar\n",
      "14 es un numero par\n",
      "15 es un numero impar\n",
      "16 es un numero par\n",
      "17 es un numero impar\n",
      "18 es un numero par\n",
      "19 es un numero impar\n",
      "20 es un numero par\n"
     ]
    }
   ],
   "source": [
    "#3. Para los valores enteros del 1 al 20, imprimir por pantalla si es par o impar\n",
    "for n in range(1,21):\n",
    "    if n%2 ==0:\n",
    "        print(str(n) + ' es un numero par')\n",
    "    else:\n",
    "        print(str(n) + ' es un numero impar')\n",
    "    continue"
   ]
  },
  {
   "cell_type": "code",
   "execution_count": 54,
   "metadata": {},
   "outputs": [
    {
     "name": "stdout",
     "output_type": "stream",
     "text": [
      "El valor 0 elevado a tercera potencia es igual a 0\n",
      "El valor 1 elevado a tercera potencia es igual a 1\n",
      "El valor 2 elevado a tercera potencia es igual a 8\n",
      "El valor 3 elevado a tercera potencia es igual a 27\n",
      "El valor 4 elevado a tercera potencia es igual a 64\n"
     ]
    }
   ],
   "source": [
    "#4. En un ciclo for mostrar para los valores entre 0 y 5 el resultado de elevarlo a la potencia igual a 3\n",
    "\n",
    "for n in range(0,5):\n",
    "    resultado = n**3\n",
    "    print('El valor ' + str(n) + ' elevado a tercera potencia es igual a ' + str(resultado))"
   ]
  },
  {
   "cell_type": "code",
   "execution_count": 57,
   "metadata": {},
   "outputs": [
    {
     "name": "stdout",
     "output_type": "stream",
     "text": [
      "Ciclo 1\n",
      "Ciclo 2\n",
      "Ciclo 3\n"
     ]
    }
   ],
   "source": [
    "#5. Crear una variable que contenga un número entero y realizar un ciclo for la misma cantidad de ciclos\n",
    "\n",
    "n = 3\n",
    "for n in range (0,n):\n",
    "    n += 1\n",
    "    if n != 3:\n",
    "        print('Ciclo ' + str(n))\n",
    "    else:\n",
    "        print('Ciclo ' + str(n))\n",
    "        break\n",
    "     "
   ]
  },
  {
   "cell_type": "code",
   "execution_count": 173,
   "metadata": {},
   "outputs": [
    {
     "name": "stdout",
     "output_type": "stream",
     "text": [
      "El fibonacci es 40320\n"
     ]
    }
   ],
   "source": [
    "#6. Utilizar un ciclo while para realizar el factoreo de un número guardado en una variable, sólo si \n",
    "# la variable contiene un número entero mayor a 0\n",
    "\n",
    "number = 8\n",
    "if type(number) == int:\n",
    "    if number > 0:\n",
    "        fibonacci = number\n",
    "        for i in range(1,number):\n",
    "            number -= 1\n",
    "            fibonacci = fibonacci * number\n",
    "        print('El fibonacci es', fibonacci)\n",
    "    else:\n",
    "        print('La variables no es mayor a 0')\n",
    "else:\n",
    "    print('La variables no es entero')        "
   ]
  },
  {
   "cell_type": "code",
   "execution_count": 177,
   "metadata": {},
   "outputs": [
    {
     "name": "stdout",
     "output_type": "stream",
     "text": [
      "Ciclo while numero 2\n",
      "Ciclo for numero 1\n",
      "Ciclo while numero 3\n",
      "Ciclo for numero 1\n",
      "Ciclo while numero 3\n",
      "Ciclo for numero 2\n",
      "Ciclo while numero 4\n",
      "Ciclo for numero 1\n",
      "Ciclo while numero 4\n",
      "Ciclo for numero 2\n",
      "Ciclo while numero 4\n",
      "Ciclo for numero 3\n",
      "Ciclo while numero 5\n",
      "Ciclo for numero 1\n",
      "Ciclo while numero 5\n",
      "Ciclo for numero 2\n",
      "Ciclo while numero 5\n",
      "Ciclo for numero 3\n",
      "Ciclo while numero 5\n",
      "Ciclo for numero 4\n"
     ]
    }
   ],
   "source": [
    "#7. Crear un ciclo for dentro de un ciclo while\n",
    "\n",
    "n = 0\n",
    "while (n  < 5):\n",
    "      n += 1\n",
    "      for i in range(1,n):\n",
    "        print('Ciclo while numero', str(n))\n",
    "        print('Ciclo for numero', str(i))"
   ]
  },
  {
   "cell_type": "code",
   "execution_count": 183,
   "metadata": {},
   "outputs": [],
   "source": [
    "8#. Crear un ciclo while dentro de un ciclo for\n",
    "\n",
    "num = 0\n",
    "for s in range(1, num):\n",
    "    while (num < 5):\n",
    "        num -= 1\n",
    "    print('Ciclo for numero', str(s))\n",
    "    print('Ciclo while numero', str(num))\n",
    "     "
   ]
  },
  {
   "cell_type": "code",
   "execution_count": 185,
   "metadata": {},
   "outputs": [
    {
     "name": "stdout",
     "output_type": "stream",
     "text": [
      "2\n",
      "3\n",
      "5\n",
      "7\n",
      "11\n",
      "13\n",
      "17\n",
      "19\n",
      "23\n",
      "29\n",
      "El numero de ciclos realizados es de 406\n"
     ]
    }
   ],
   "source": [
    "#9. Imprimir los números primos existentes entre 0 y 30\n",
    "\n",
    "numero = 30\n",
    "limite = numero + 1\n",
    "cantidad_ciclos_sin_breake = 0\n",
    "for nro in range(2,limite):\n",
    "   \n",
    "    es_primo = True\n",
    "    for n in range(2,nro):\n",
    "        cantidad_ciclos_sin_breake += 1\n",
    "        if nro % n == 0:\n",
    "            es_primo = False\n",
    "    if es_primo != False:\n",
    "        print(str(nro))\n",
    "    else:\n",
    "        continue\n",
    "print('El numero de ciclos realizados es de', cantidad_ciclos_sin_breake)        \n",
    "            "
   ]
  },
  {
   "cell_type": "code",
   "execution_count": 184,
   "metadata": {},
   "outputs": [
    {
     "name": "stdout",
     "output_type": "stream",
     "text": [
      "2\n",
      "3\n",
      "5\n",
      "7\n",
      "11\n",
      "13\n",
      "17\n",
      "19\n",
      "23\n",
      "29\n",
      "El numero de ciclos realizados es de 135\n"
     ]
    }
   ],
   "source": [
    "#10. ¿Se puede mejorar el proceso del punto 9? Utilizar las sentencias break y/ó continue para tal fin\n",
    "\n",
    "numero = 30\n",
    "limite = numero + 1\n",
    "cantidad_ciclos_con_breake = 0\n",
    "for nro in range(2,limite):\n",
    "    es_primo = True\n",
    "    for n in range(2,nro):\n",
    "        cantidad_ciclos_con_breake+= 1\n",
    "        if nro % n == 0:\n",
    "            es_primo = False\n",
    "            break\n",
    "    if es_primo != False:\n",
    "        print(str(nro))\n",
    "    else:\n",
    "        continue\n",
    "print('El numero de ciclos realizados es de', cantidad_ciclos_con_breake)"
   ]
  },
  {
   "cell_type": "code",
   "execution_count": 139,
   "metadata": {},
   "outputs": [
    {
     "name": "stdout",
     "output_type": "stream",
     "text": [
      "El codigo se optimizó en un 66.75 % utilizando breake\n"
     ]
    }
   ],
   "source": [
    "#11. En los puntos 9 y 10, se diseño un código que encuentra números primos y además \n",
    "# se lo optimizó. ¿Es posible saber en qué medida se optimizó?\n",
    "\n",
    "print('El codigo se optimizó en un', round((((cantidad_ciclos_sin_breake - cantidad_ciclos_con_breake)/cantidad_ciclos_sin_breake)*100),2), '% utilizando breake')"
   ]
  },
  {
   "cell_type": "code",
   "execution_count": 188,
   "metadata": {},
   "outputs": [
    {
     "name": "stdout",
     "output_type": "stream",
     "text": [
      "2\n",
      "3\n",
      "5\n",
      "7\n",
      "11\n",
      "13\n",
      "17\n",
      "19\n",
      "23\n",
      "29\n",
      "31\n",
      "37\n",
      "41\n",
      "43\n",
      "47\n",
      "53\n",
      "59\n",
      "61\n",
      "67\n",
      "71\n",
      "73\n",
      "79\n",
      "83\n",
      "89\n",
      "97\n",
      "101\n",
      "103\n",
      "107\n",
      "109\n",
      "113\n",
      "127\n",
      "131\n",
      "137\n",
      "139\n",
      "149\n",
      "151\n",
      "157\n",
      "163\n",
      "167\n",
      "173\n",
      "179\n",
      "181\n",
      "191\n",
      "193\n",
      "197\n",
      "199\n",
      "211\n",
      "223\n",
      "227\n",
      "229\n",
      "233\n",
      "239\n",
      "241\n",
      "251\n",
      "257\n",
      "263\n",
      "269\n",
      "271\n",
      "277\n",
      "281\n",
      "283\n",
      "293\n",
      "307\n",
      "311\n",
      "313\n",
      "317\n",
      "331\n",
      "337\n",
      "347\n",
      "349\n",
      "353\n",
      "359\n",
      "367\n",
      "373\n",
      "379\n",
      "383\n",
      "389\n",
      "397\n",
      "401\n",
      "409\n",
      "419\n",
      "421\n",
      "431\n",
      "433\n",
      "439\n",
      "443\n",
      "449\n",
      "457\n",
      "461\n",
      "463\n",
      "467\n",
      "479\n",
      "487\n",
      "491\n",
      "499\n",
      "El numero de ciclos realizados es de 22279\n",
      "Si se evalua una cantidad de 500 el codigo se optimiza en un 82.07 % utilizando breake. Es decir, a medida que aumenta la cantidada a evaluar, la optimizacion aumentará.\n"
     ]
    }
   ],
   "source": [
    "#12. Si la cantidad de números que se evalúa es mayor a treinta, esa optimización crece?\n",
    "\n",
    "numero = 500\n",
    "limite = numero + 1\n",
    "cantidad_ciclos_con_breake2 = 0\n",
    "for nro in range(2,limite):\n",
    "    es_primo = True\n",
    "    for n in range(2,nro):\n",
    "        cantidad_ciclos_con_breake2 += 1\n",
    "        if nro % n == 0:\n",
    "            es_primo = False\n",
    "            break\n",
    "    if es_primo != False:\n",
    "        print(str(nro))\n",
    "    else:\n",
    "        continue\n",
    "print('El numero de ciclos realizados es de', cantidad_ciclos_con_breake2)\n",
    "print('Si se evalua una cantidad de 500 el codigo se optimiza en un', round((((124251 - cantidad_ciclos_con_breake2)/124251)*100),2), '% utilizando breake.','Es decir, a medida que aumenta la cantidada a evaluar, la optimizacion aumentará.')"
   ]
  },
  {
   "cell_type": "code",
   "execution_count": 61,
   "metadata": {},
   "outputs": [
    {
     "name": "stdout",
     "output_type": "stream",
     "text": [
      "El numero 108 es divisible por 12\n",
      "El numero 120 es divisible por 12\n",
      "El numero 132 es divisible por 12\n",
      "El numero 144 es divisible por 12\n",
      "El numero 156 es divisible por 12\n",
      "El numero 168 es divisible por 12\n",
      "El numero 180 es divisible por 12\n",
      "El numero 192 es divisible por 12\n",
      "El numero 204 es divisible por 12\n",
      "El numero 216 es divisible por 12\n",
      "El numero 228 es divisible por 12\n",
      "El numero 240 es divisible por 12\n",
      "El numero 252 es divisible por 12\n",
      "El numero 264 es divisible por 12\n",
      "El numero 276 es divisible por 12\n",
      "El numero 288 es divisible por 12\n",
      "El numero 300 es divisible por 12\n"
     ]
    }
   ],
   "source": [
    "#13. Aplicando continue, armar un ciclo \"while\", que solo imprima los valores divisibles\n",
    "    # por 12 dentro del rango de números de 100 a 300\n",
    "\n",
    "n = 50,\n",
    "for n in range(100,301):\n",
    "    if n%12 == 0:\n",
    "        print('El numero', n, 'es divisible por 12')\n",
    "    "
   ]
  },
  {
   "cell_type": "code",
   "execution_count": 147,
   "metadata": {},
   "outputs": [
    {
     "name": "stdout",
     "output_type": "stream",
     "text": [
      "2\n",
      "3\n",
      "5\n",
      "7\n",
      "11\n",
      "13\n",
      "17\n",
      "El numero de ciclos realizados es de 55\n"
     ]
    }
   ],
   "source": [
    "#14. Utilizar la función input() que permite hacer ingresos por teclado, para encontrar números primos y dar la opción al usario de buscar el siguiente\n",
    "\n",
    "\n",
    "numero = input('Digite el numero que desee evaluar si es primo: ')\n",
    "numero = int(numero)\n",
    "limite = numero + 1\n",
    "cantidad_ciclos_con_breake = 0\n",
    "for nro in range(2,limite):\n",
    "    es_primo = True\n",
    "    for n in range(2,nro):\n",
    "        cantidad_ciclos_con_breake+= 1\n",
    "        if nro % n == 0:\n",
    "            es_primo = False\n",
    "            break\n",
    "    if es_primo != False:\n",
    "        print(str(nro))\n",
    "    else:\n",
    "        pass\n",
    "print('El numero de ciclos realizados es de', cantidad_ciclos_con_breake)"
   ]
  },
  {
   "cell_type": "code",
   "execution_count": 65,
   "metadata": {},
   "outputs": [
    {
     "name": "stdout",
     "output_type": "stream",
     "text": [
      "102\n"
     ]
    }
   ],
   "source": [
    "#15. Crear un ciclo while que encuentre dentro del rango de 100 a 300 el primer número divisible\n",
    "# por 3 y además múltiplo de 6\n",
    "\n",
    "for i in range(100,300):\n",
    "    if i%6 == 0:\n",
    "        if i%3 == 0:\n",
    "            print(i)\n",
    "            break\n",
    "                   \n"
   ]
  }
 ],
 "metadata": {
  "kernelspec": {
   "display_name": "Python 3.9.5 64-bit",
   "language": "python",
   "name": "python3"
  },
  "language_info": {
   "codemirror_mode": {
    "name": "ipython",
    "version": 3
   },
   "file_extension": ".py",
   "mimetype": "text/x-python",
   "name": "python",
   "nbconvert_exporter": "python",
   "pygments_lexer": "ipython3",
   "version": "3.9.5"
  },
  "orig_nbformat": 4,
  "vscode": {
   "interpreter": {
    "hash": "55fb97c187b10808f2ba10717cc814bb799bae726e6c080cd117d5f14b87ab8a"
   }
  }
 },
 "nbformat": 4,
 "nbformat_minor": 2
}
