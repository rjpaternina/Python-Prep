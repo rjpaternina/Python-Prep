{
 "cells": [
  {
   "cell_type": "code",
   "execution_count": 5,
   "metadata": {},
   "outputs": [
    {
     "name": "stdout",
     "output_type": "stream",
     "text": [
      "10\n"
     ]
    }
   ],
   "source": [
    "#1. Crear una variable que contenga un elemento del conjunto de números enteros y luego imprimir por pantalla si es mayor o menor a cero\n",
    "\n",
    "\n",
    "var = 10\n",
    "if var > 0:\n",
    "    print(var)\n",
    "elif var < 0:\n",
    "    print(var)\n",
    "else: \n",
    "    print('El numero es igual a 0')\n",
    "\n",
    "    "
   ]
  },
  {
   "cell_type": "code",
   "execution_count": 24,
   "metadata": {},
   "outputs": [
    {
     "ename": "TypeError",
     "evalue": "unsupported operand type(s) for +: 'int' and 'str'",
     "output_type": "error",
     "traceback": [
      "\u001b[1;31m---------------------------------------------------------------------------\u001b[0m",
      "\u001b[1;31mTypeError\u001b[0m                                 Traceback (most recent call last)",
      "\u001b[1;32md:\\Ricardo\\Programacion\\Soyhenry\\Repos\\Python-Prep\\03 - Flujos de Control\\.ipynb_checkpoints\\Prep_Course_Homework_03-checkpoint.ipynb Cell 2'\u001b[0m in \u001b[0;36m<cell line: 4>\u001b[1;34m()\u001b[0m\n\u001b[0;32m      <a href='vscode-notebook-cell:/d%3A/Ricardo/Programacion/Soyhenry/Repos/Python-Prep/03%20-%20Flujos%20de%20Control/.ipynb_checkpoints/Prep_Course_Homework_03-checkpoint.ipynb#ch0000001?line=4'>5</a>\u001b[0m     \u001b[39mprint\u001b[39m(var2 \u001b[39m+\u001b[39m \u001b[39m'\u001b[39m\u001b[39mSon variable del mismo tipo\u001b[39m\u001b[39m'\u001b[39m)\n\u001b[0;32m      <a href='vscode-notebook-cell:/d%3A/Ricardo/Programacion/Soyhenry/Repos/Python-Prep/03%20-%20Flujos%20de%20Control/.ipynb_checkpoints/Prep_Course_Homework_03-checkpoint.ipynb#ch0000001?line=5'>6</a>\u001b[0m \u001b[39melse\u001b[39;00m: \n\u001b[1;32m----> <a href='vscode-notebook-cell:/d%3A/Ricardo/Programacion/Soyhenry/Repos/Python-Prep/03%20-%20Flujos%20de%20Control/.ipynb_checkpoints/Prep_Course_Homework_03-checkpoint.ipynb#ch0000001?line=6'>7</a>\u001b[0m     \u001b[39mprint\u001b[39m(var3 \u001b[39m+\u001b[39;49m \u001b[39m'\u001b[39;49m\u001b[39mNo son variables del mimso tipo\u001b[39;49m\u001b[39m'\u001b[39;49m)\n",
      "\u001b[1;31mTypeError\u001b[0m: unsupported operand type(s) for +: 'int' and 'str'"
     ]
    }
   ],
   "source": [
    "#2. Crear dos variables y un condicional que informe si son del mismo tipo de dato\n",
    "var2 = 5.5\n",
    "var3 = 7\n",
    "if type(var2) == type(var3):\n",
    "    print('Son variable del mismo tipo')\n",
    "else: \n",
    "    print('No son variables del mimso tipo')\n"
   ]
  },
  {
   "cell_type": "code",
   "execution_count": 29,
   "metadata": {},
   "outputs": [
    {
     "name": "stdout",
     "output_type": "stream",
     "text": [
      "1 es un numero impar\n",
      "2 es un numero par\n",
      "3 es un numero impar\n",
      "4 es un numero par\n",
      "5 es un numero impar\n",
      "6 es un numero par\n",
      "7 es un numero impar\n",
      "8 es un numero par\n",
      "9 es un numero impar\n",
      "10 es un numero par\n",
      "11 es un numero impar\n",
      "12 es un numero par\n",
      "13 es un numero impar\n",
      "14 es un numero par\n",
      "15 es un numero impar\n",
      "16 es un numero par\n",
      "17 es un numero impar\n",
      "18 es un numero par\n",
      "19 es un numero impar\n",
      "20 es un numero par\n"
     ]
    }
   ],
   "source": [
    "#3. Para los valores enteros del 1 al 20, imprimir por pantalla si es par o impar\n",
    "for n in range(1,21):\n",
    "    if n%2 ==0:\n",
    "        print(str(n) + ' es un numero par')\n",
    "    else:\n",
    "        print(str(n) + ' es un numero impar')\n",
    "    continue"
   ]
  },
  {
   "cell_type": "code",
   "execution_count": 54,
   "metadata": {},
   "outputs": [
    {
     "name": "stdout",
     "output_type": "stream",
     "text": [
      "El valor 0 elevado a tercera potencia es igual a 0\n",
      "El valor 1 elevado a tercera potencia es igual a 1\n",
      "El valor 2 elevado a tercera potencia es igual a 8\n",
      "El valor 3 elevado a tercera potencia es igual a 27\n",
      "El valor 4 elevado a tercera potencia es igual a 64\n"
     ]
    }
   ],
   "source": [
    "#4. En un ciclo for mostrar para los valores entre 0 y 5 el resultado de elevarlo a la potencia igual a 3\n",
    "\n",
    "for n in range(0,5):\n",
    "    resultado = n**3\n",
    "    print('El valor ' + str(n) + ' elevado a tercera potencia es igual a ' + str(resultado))"
   ]
  },
  {
   "cell_type": "code",
   "execution_count": 57,
   "metadata": {},
   "outputs": [
    {
     "name": "stdout",
     "output_type": "stream",
     "text": [
      "Ciclo 1\n",
      "Ciclo 2\n",
      "Ciclo 3\n"
     ]
    }
   ],
   "source": [
    "#5. Crear una variable que contenga un número entero y realizar un ciclo for la misma cantidad de ciclos\n",
    "\n",
    "n = 3\n",
    "for n in range (0,n):\n",
    "    n += 1\n",
    "    if n != 3:\n",
    "        print('Ciclo ' + str(n))\n",
    "    else:\n",
    "        print('Ciclo ' + str(n))\n",
    "        break\n",
    "     "
   ]
  },
  {
   "cell_type": "code",
   "execution_count": null,
   "metadata": {},
   "outputs": [],
   "source": [
    "#6. Utilizar un ciclo while para realizar el factoreo de un número guardado en una variable, sólo si la variable contiene un número entero mayor a 0\n",
    "\n",
    "???????"
   ]
  },
  {
   "cell_type": "code",
   "execution_count": null,
   "metadata": {},
   "outputs": [],
   "source": [
    "#7. Crear un ciclo for dentro de un ciclo while\n",
    "\n",
    "??????"
   ]
  },
  {
   "cell_type": "code",
   "execution_count": null,
   "metadata": {},
   "outputs": [],
   "source": [
    "8#. Crear un ciclo while dentro de un ciclo for"
   ]
  },
  {
   "cell_type": "code",
   "execution_count": 45,
   "metadata": {},
   "outputs": [
    {
     "name": "stdout",
     "output_type": "stream",
     "text": [
      "5\n",
      "5\n",
      "5\n"
     ]
    }
   ],
   "source": [
    "#9. Imprimir los números primos existentes entre 0 y 30\n",
    "\n",
    "numero = 5\n",
    "for n in range(2,numero):\n",
    "    \n",
    "    if numero % n == 0:\n",
    "        print('No es primo ' + str(numero) + ' es divisor')\n",
    "    \n",
    "    print(numero)"
   ]
  },
  {
   "cell_type": "code",
   "execution_count": 51,
   "metadata": {},
   "outputs": [
    {
     "name": "stdout",
     "output_type": "stream",
     "text": [
      "5\n"
     ]
    }
   ],
   "source": [
    "#10. ¿Se puede mejorar el proceso del punto 9? Utilizar las sentencias break y/ó continue para tal fin"
   ]
  },
  {
   "cell_type": "code",
   "execution_count": null,
   "metadata": {},
   "outputs": [],
   "source": [
    "#11. En los puntos 9 y 10, se diseño un código que encuentra números primos y además se lo optimizó. ¿Es posible saber en qué medida se optimizó?"
   ]
  },
  {
   "cell_type": "code",
   "execution_count": null,
   "metadata": {},
   "outputs": [],
   "source": [
    "#12. Si la cantidad de números que se evalúa es mayor a treinta, esa optimización crece?"
   ]
  },
  {
   "cell_type": "code",
   "execution_count": 61,
   "metadata": {},
   "outputs": [
    {
     "name": "stdout",
     "output_type": "stream",
     "text": [
      "El numero 108 es divisible por 12\n",
      "El numero 120 es divisible por 12\n",
      "El numero 132 es divisible por 12\n",
      "El numero 144 es divisible por 12\n",
      "El numero 156 es divisible por 12\n",
      "El numero 168 es divisible por 12\n",
      "El numero 180 es divisible por 12\n",
      "El numero 192 es divisible por 12\n",
      "El numero 204 es divisible por 12\n",
      "El numero 216 es divisible por 12\n",
      "El numero 228 es divisible por 12\n",
      "El numero 240 es divisible por 12\n",
      "El numero 252 es divisible por 12\n",
      "El numero 264 es divisible por 12\n",
      "El numero 276 es divisible por 12\n",
      "El numero 288 es divisible por 12\n",
      "El numero 300 es divisible por 12\n"
     ]
    }
   ],
   "source": [
    "#13. Aplicando continue, armar un ciclo \"while\", que solo imprima los valores divisibles\n",
    "    # por 12 dentro del rango de números de 100 a 300\n",
    "\n",
    "n = 50,\n",
    "for n in range(100,301):\n",
    "    if n%12 == 0:\n",
    "        print('El numero', n, 'es divisible por 12')\n",
    "    "
   ]
  },
  {
   "cell_type": "code",
   "execution_count": null,
   "metadata": {},
   "outputs": [],
   "source": [
    "#14. Utilizar la función input() que permite hacer ingresos por teclado, para encontrar números primos y dar la opción al usario de buscar el siguiente\n"
   ]
  },
  {
   "cell_type": "code",
   "execution_count": 65,
   "metadata": {},
   "outputs": [
    {
     "name": "stdout",
     "output_type": "stream",
     "text": [
      "102\n"
     ]
    }
   ],
   "source": [
    "#15. Crear un ciclo while que encuentre dentro del rango de 100 a 300 el primer número divisible\n",
    "# por 3 y además múltiplo de 6\n",
    "\n",
    "for i in range(100,300):\n",
    "    if i%6 == 0:\n",
    "        if i%3 == 0:\n",
    "            print(i)\n",
    "            break\n",
    "                   \n"
   ]
  }
 ],
 "metadata": {
  "kernelspec": {
   "display_name": "Python 3.9.5 64-bit",
   "language": "python",
   "name": "python3"
  },
  "language_info": {
   "codemirror_mode": {
    "name": "ipython",
    "version": 3
   },
   "file_extension": ".py",
   "mimetype": "text/x-python",
   "name": "python",
   "nbconvert_exporter": "python",
   "pygments_lexer": "ipython3",
   "version": "3.9.5"
  },
  "orig_nbformat": 4,
  "vscode": {
   "interpreter": {
    "hash": "55fb97c187b10808f2ba10717cc814bb799bae726e6c080cd117d5f14b87ab8a"
   }
  }
 },
 "nbformat": 4,
 "nbformat_minor": 2
}
