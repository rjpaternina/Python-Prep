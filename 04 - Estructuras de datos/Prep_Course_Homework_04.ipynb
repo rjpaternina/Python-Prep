{
 "cells": [
  {
   "cell_type": "markdown",
   "metadata": {},
   "source": [
    "1) Crear una lista que contenga nombres de ciudades del mundo que contenga más de 5 elementos e imprimir por pantalla"
   ]
  },
  {
   "cell_type": "code",
   "execution_count": 46,
   "metadata": {},
   "outputs": [
    {
     "name": "stdout",
     "output_type": "stream",
     "text": [
      "['Bogota', 'Lima', 'Miami', 'Barcelona', 'Milan', 'Torino', 'Cali']\n"
     ]
    }
   ],
   "source": [
    "ciudades_mundo = ['Bogota','Lima','Miami','Barcelona','Milan','Torino','Cali']\n",
    "print(ciudades_mundo)"
   ]
  },
  {
   "cell_type": "markdown",
   "metadata": {},
   "source": [
    "2) Imprimir por pantalla el segundo elemento de la lista"
   ]
  },
  {
   "cell_type": "code",
   "execution_count": 47,
   "metadata": {},
   "outputs": [
    {
     "name": "stdout",
     "output_type": "stream",
     "text": [
      "Lima\n"
     ]
    }
   ],
   "source": [
    "print(ciudades_mundo[1])"
   ]
  },
  {
   "cell_type": "markdown",
   "metadata": {},
   "source": [
    "3) Imprimir por pantalla del segundo al cuarto elemento"
   ]
  },
  {
   "cell_type": "code",
   "execution_count": 48,
   "metadata": {},
   "outputs": [
    {
     "name": "stdout",
     "output_type": "stream",
     "text": [
      "['Lima', 'Miami', 'Barcelona']\n"
     ]
    }
   ],
   "source": [
    "print(ciudades_mundo[1:4])"
   ]
  },
  {
   "cell_type": "markdown",
   "metadata": {},
   "source": [
    "4) Visualizar el tipo de dato de la lista"
   ]
  },
  {
   "cell_type": "code",
   "execution_count": 16,
   "metadata": {},
   "outputs": [
    {
     "data": {
      "text/plain": [
       "list"
      ]
     },
     "execution_count": 16,
     "metadata": {},
     "output_type": "execute_result"
    }
   ],
   "source": [
    "type(ciudades_mundo)"
   ]
  },
  {
   "cell_type": "markdown",
   "metadata": {},
   "source": [
    "5) Visualizar todos los elementos de la lista a partir del tercero de manera genérica, es decir, sin explicitar la posición del último elemento"
   ]
  },
  {
   "cell_type": "code",
   "execution_count": 49,
   "metadata": {},
   "outputs": [
    {
     "name": "stdout",
     "output_type": "stream",
     "text": [
      "['Miami', 'Barcelona', 'Milan', 'Torino', 'Cali']\n"
     ]
    }
   ],
   "source": [
    "print(ciudades_mundo[2:])"
   ]
  },
  {
   "cell_type": "markdown",
   "metadata": {},
   "source": [
    "6) Visualizar los primeros 4 elementos de la lista"
   ]
  },
  {
   "cell_type": "code",
   "execution_count": 50,
   "metadata": {},
   "outputs": [
    {
     "name": "stdout",
     "output_type": "stream",
     "text": [
      "['Bogota', 'Lima', 'Miami', 'Barcelona']\n"
     ]
    }
   ],
   "source": [
    "print(ciudades_mundo[0:4])"
   ]
  },
  {
   "cell_type": "markdown",
   "metadata": {},
   "source": [
    "7) Agregar una ciudad más a la lista que ya exista y otra que no ¿Arroja algún tipo de error?"
   ]
  },
  {
   "cell_type": "code",
   "execution_count": 77,
   "metadata": {},
   "outputs": [
    {
     "name": "stdout",
     "output_type": "stream",
     "text": [
      "['Bogota', 'Lima', 'Miami', 'Barcelona', 'Milan', 'Torino', 'Cali', 'Brasilia', 'Miami']\n"
     ]
    }
   ],
   "source": [
    "ciudades_mundo.append('Brasilia')\n",
    "ciudades_mundo.append('Miami')\n",
    "print(ciudades_mundo)"
   ]
  },
  {
   "cell_type": "markdown",
   "metadata": {},
   "source": [
    "8) Agregar otra ciudad, pero en la cuarta posición"
   ]
  },
  {
   "cell_type": "code",
   "execution_count": 78,
   "metadata": {},
   "outputs": [
    {
     "name": "stdout",
     "output_type": "stream",
     "text": [
      "['Bogota', 'Lima', 'Miami', 'Pekin', 'Barcelona', 'Milan', 'Torino', 'Cali', 'Brasilia', 'Miami']\n"
     ]
    }
   ],
   "source": [
    "ciudades_mundo.insert(3,'Pekin')\n",
    "print(ciudades_mundo)"
   ]
  },
  {
   "cell_type": "markdown",
   "metadata": {},
   "source": [
    "9) Concatenar otra lista a la ya creada"
   ]
  },
  {
   "cell_type": "code",
   "execution_count": 79,
   "metadata": {},
   "outputs": [
    {
     "name": "stdout",
     "output_type": "stream",
     "text": [
      "['Bogota', 'Lima', 'Miami', 'Pekin', 'Barcelona', 'Milan', 'Torino', 'Cali', 'Brasilia', 'Miami', 'Cuzco', 'Tokio', 'Berlin']\n"
     ]
    }
   ],
   "source": [
    "ciudades_mundo.extend(['Cuzco','Tokio','Berlin'])\n",
    "print(ciudades_mundo)"
   ]
  },
  {
   "cell_type": "markdown",
   "metadata": {},
   "source": [
    "10) Encontrar el índice de la ciudad que en el punto 7 agregamos duplicada. ¿Se nota alguna particularidad?\n",
    "\n",
    "Rta// Retorna unicamente el indice de la primera ciudad "
   ]
  },
  {
   "cell_type": "code",
   "execution_count": 85,
   "metadata": {},
   "outputs": [
    {
     "name": "stdout",
     "output_type": "stream",
     "text": [
      "2\n"
     ]
    }
   ],
   "source": [
    "print(ciudades_mundo.index('Miami'))"
   ]
  },
  {
   "cell_type": "markdown",
   "metadata": {},
   "source": [
    "11) ¿Qué pasa si se busca un elemento que no existe?\n",
    "Rta// Retorna error diciendo que el elemento no esta en la lista"
   ]
  },
  {
   "cell_type": "code",
   "execution_count": 86,
   "metadata": {},
   "outputs": [
    {
     "ename": "ValueError",
     "evalue": "'Cartagena' is not in list",
     "output_type": "error",
     "traceback": [
      "\u001b[1;31m---------------------------------------------------------------------------\u001b[0m",
      "\u001b[1;31mValueError\u001b[0m                                Traceback (most recent call last)",
      "\u001b[1;32md:\\Ricardo\\Programacion\\Soyhenry\\Repos\\Python-Prep\\04 - Estructuras de datos\\Prep_Course_Homework_04.ipynb Cell 22'\u001b[0m in \u001b[0;36m<cell line: 1>\u001b[1;34m()\u001b[0m\n\u001b[1;32m----> <a href='vscode-notebook-cell:/d%3A/Ricardo/Programacion/Soyhenry/Repos/Python-Prep/04%20-%20Estructuras%20de%20datos/Prep_Course_Homework_04.ipynb#ch0000042?line=0'>1</a>\u001b[0m \u001b[39mprint\u001b[39m(ciudades_mundo\u001b[39m.\u001b[39;49mindex(\u001b[39m'\u001b[39;49m\u001b[39mCartagena\u001b[39;49m\u001b[39m'\u001b[39;49m))\n",
      "\u001b[1;31mValueError\u001b[0m: 'Cartagena' is not in list"
     ]
    }
   ],
   "source": [
    "print(ciudades_mundo.index('Cartagena'))"
   ]
  },
  {
   "cell_type": "markdown",
   "metadata": {},
   "source": [
    "12) Eliminar un elemento de la lista"
   ]
  },
  {
   "cell_type": "code",
   "execution_count": 87,
   "metadata": {},
   "outputs": [
    {
     "name": "stdout",
     "output_type": "stream",
     "text": [
      "['Bogota', 'Lima', 'Miami', 'Pekin', 'Milan', 'Torino', 'Cali', 'Brasilia', 'Miami', 'Cuzco', 'Tokio', 'Berlin']\n"
     ]
    }
   ],
   "source": [
    "ciudades_mundo.remove('Barcelona')\n",
    "print(ciudades_mundo)"
   ]
  },
  {
   "cell_type": "markdown",
   "metadata": {},
   "source": [
    "13) ¿Qué pasa si el elemento a eliminar no existe?\n",
    "Rta// Retorna error diciendo que el elemento a remover no esta en la lista"
   ]
  },
  {
   "cell_type": "code",
   "execution_count": 88,
   "metadata": {},
   "outputs": [
    {
     "ename": "ValueError",
     "evalue": "list.remove(x): x not in list",
     "output_type": "error",
     "traceback": [
      "\u001b[1;31m---------------------------------------------------------------------------\u001b[0m",
      "\u001b[1;31mValueError\u001b[0m                                Traceback (most recent call last)",
      "\u001b[1;32md:\\Ricardo\\Programacion\\Soyhenry\\Repos\\Python-Prep\\04 - Estructuras de datos\\Prep_Course_Homework_04.ipynb Cell 26'\u001b[0m in \u001b[0;36m<cell line: 1>\u001b[1;34m()\u001b[0m\n\u001b[1;32m----> <a href='vscode-notebook-cell:/d%3A/Ricardo/Programacion/Soyhenry/Repos/Python-Prep/04%20-%20Estructuras%20de%20datos/Prep_Course_Homework_04.ipynb#ch0000044?line=0'>1</a>\u001b[0m ciudades_mundo\u001b[39m.\u001b[39;49mremove(\u001b[39m'\u001b[39;49m\u001b[39mCartagena\u001b[39;49m\u001b[39m'\u001b[39;49m)\n\u001b[0;32m      <a href='vscode-notebook-cell:/d%3A/Ricardo/Programacion/Soyhenry/Repos/Python-Prep/04%20-%20Estructuras%20de%20datos/Prep_Course_Homework_04.ipynb#ch0000044?line=1'>2</a>\u001b[0m \u001b[39mprint\u001b[39m(ciudades_mundo)\n",
      "\u001b[1;31mValueError\u001b[0m: list.remove(x): x not in list"
     ]
    }
   ],
   "source": [
    "ciudades_mundo.remove('Cartagena')\n",
    "print(ciudades_mundo)"
   ]
  },
  {
   "cell_type": "markdown",
   "metadata": {},
   "source": [
    "14) Extraer el úlimo elemento de la lista, guardarlo en una variable e imprimirlo"
   ]
  },
  {
   "cell_type": "code",
   "execution_count": 90,
   "metadata": {},
   "outputs": [
    {
     "name": "stdout",
     "output_type": "stream",
     "text": [
      "Berlin\n",
      "['Bogota', 'Lima', 'Miami', 'Pekin', 'Milan', 'Torino', 'Cali', 'Brasilia', 'Miami', 'Cuzco', 'Tokio']\n"
     ]
    }
   ],
   "source": [
    "ultima_ciudad = ciudades_mundo.pop()\n",
    "print(ultima_ciudad)\n",
    "print(ciudades_mundo)"
   ]
  },
  {
   "cell_type": "markdown",
   "metadata": {},
   "source": [
    "15) Mostrar la lista multiplicada por 4"
   ]
  },
  {
   "cell_type": "code",
   "execution_count": 98,
   "metadata": {},
   "outputs": [
    {
     "name": "stdout",
     "output_type": "stream",
     "text": [
      "['Bogota', 'Lima', 'Miami', 'Pekin', 'Milan', 'Torino', 'Cali', 'Brasilia', 'Miami', 'Cuzco', 'Tokio', 'Bogota', 'Lima', 'Miami', 'Pekin', 'Milan', 'Torino', 'Cali', 'Brasilia', 'Miami', 'Cuzco', 'Tokio', 'Bogota', 'Lima', 'Miami', 'Pekin', 'Milan', 'Torino', 'Cali', 'Brasilia', 'Miami', 'Cuzco', 'Tokio', 'Bogota', 'Lima', 'Miami', 'Pekin', 'Milan', 'Torino', 'Cali', 'Brasilia', 'Miami', 'Cuzco', 'Tokio']\n"
     ]
    }
   ],
   "source": [
    "print (ciudades_mundo * 4)"
   ]
  },
  {
   "cell_type": "markdown",
   "metadata": {},
   "source": [
    "16) Crear una tupla que contenga los números enteros del 1 al 20"
   ]
  },
  {
   "cell_type": "code",
   "execution_count": 104,
   "metadata": {},
   "outputs": [
    {
     "name": "stdout",
     "output_type": "stream",
     "text": [
      "(1, 2, 3, 4, 5, 6, 7, 8, 9, 10, 11, 12, 13, 14, 15, 16, 17, 18, 19, 20)\n"
     ]
    }
   ],
   "source": [
    "enteros = [1]\n",
    "for n in range(2,21):\n",
    "    #enteros += 1\n",
    "    enteros.append(n)\n",
    "tupla_enteros = tuple(enteros)\n",
    "print(tupla_enteros)"
   ]
  },
  {
   "cell_type": "markdown",
   "metadata": {},
   "source": [
    "17) Imprimir desde el índice 10 al 15 de la tupla"
   ]
  },
  {
   "cell_type": "code",
   "execution_count": 106,
   "metadata": {},
   "outputs": [
    {
     "name": "stdout",
     "output_type": "stream",
     "text": [
      "[11, 12, 13, 14, 15, 16]\n"
     ]
    }
   ],
   "source": [
    "print(enteros[10:16])"
   ]
  },
  {
   "cell_type": "markdown",
   "metadata": {},
   "source": [
    "18) Evaluar si los números 20 y 30 están dentro de la tupla"
   ]
  },
  {
   "cell_type": "code",
   "execution_count": 111,
   "metadata": {},
   "outputs": [
    {
     "data": {
      "text/plain": [
       "False"
      ]
     },
     "execution_count": 111,
     "metadata": {},
     "output_type": "execute_result"
    }
   ],
   "source": [
    "#20 in enteros\n",
    "30 in enteros"
   ]
  },
  {
   "cell_type": "markdown",
   "metadata": {},
   "source": [
    "19) Con la lista creada en el punto 1, validar la existencia del elemento 'París' y si no existe, agregarlo. Utilizar una variable e informar lo sucedido."
   ]
  },
  {
   "cell_type": "code",
   "execution_count": 118,
   "metadata": {},
   "outputs": [
    {
     "name": "stdout",
     "output_type": "stream",
     "text": [
      "[('Bogota', 'Lima', 'Miami', 'Pekin', 'Milan', 'Torino', 'Cali', 'Brasilia', 'Miami', 'Cuzco', 'Tokio'), 'Paris']\n"
     ]
    }
   ],
   "source": [
    "\n",
    "#tupla_ciudades = tuple(ciudades_mundo)\n",
    "#if ('Paris' in tupla_ciudades) == False:\n",
    "    #ciudades_mundo = list(tupla_ciudades)\n",
    "    #nueva_ciudad = 'Paris'\n",
    "    #ciudades_mundo.append(nueva_ciudad)\n",
    "#print(ciudades_mundo)"
   ]
  },
  {
   "cell_type": "markdown",
   "metadata": {},
   "source": [
    "20) Mostrar la cantidad de veces que se encuentra un elemento específico dentro de la tupla y de la lista"
   ]
  },
  {
   "cell_type": "markdown",
   "metadata": {},
   "source": [
    "21) Convertir la tupla en una lista"
   ]
  },
  {
   "cell_type": "markdown",
   "metadata": {},
   "source": [
    "22) Desempaquetar solo los primeros 3 elementos de la tupla en 3 variables"
   ]
  },
  {
   "cell_type": "markdown",
   "metadata": {},
   "source": [
    "23) Crear un diccionario utilizando la lista crada en el punto 1, asignandole la clave \"ciudad\". Agregar tambien otras claves, como puede ser \"Pais\" y \"Continente\"."
   ]
  },
  {
   "cell_type": "markdown",
   "metadata": {},
   "source": [
    "24) Imprimir las claves del diccionario"
   ]
  },
  {
   "cell_type": "markdown",
   "metadata": {},
   "source": [
    "25) Imprimir las ciudades a través de su clave"
   ]
  },
  {
   "cell_type": "markdown",
   "metadata": {},
   "source": []
  }
 ],
 "metadata": {
  "kernelspec": {
   "display_name": "Python 3.9.5 64-bit",
   "language": "python",
   "name": "python3"
  },
  "language_info": {
   "codemirror_mode": {
    "name": "ipython",
    "version": 3
   },
   "file_extension": ".py",
   "mimetype": "text/x-python",
   "name": "python",
   "nbconvert_exporter": "python",
   "pygments_lexer": "ipython3",
   "version": "3.9.5"
  },
  "orig_nbformat": 4,
  "vscode": {
   "interpreter": {
    "hash": "55fb97c187b10808f2ba10717cc814bb799bae726e6c080cd117d5f14b87ab8a"
   }
  }
 },
 "nbformat": 4,
 "nbformat_minor": 2
}
